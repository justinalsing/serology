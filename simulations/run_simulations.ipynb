{
 "cells": [
  {
   "cell_type": "code",
   "execution_count": 1,
   "metadata": {},
   "outputs": [],
   "source": [
    "import numpy as np\n",
    "import matplotlib.pyplot as plt\n",
    "import scipy.stats as stats\n",
    "import time\n",
    "import serology\n",
    "import distributions.priors as priors\n",
    "import pickle\n",
    "import emcee\n",
    "import pandas as pd\n",
    "%matplotlib inline"
   ]
  },
  {
   "cell_type": "code",
   "execution_count": 2,
   "metadata": {},
   "outputs": [],
   "source": [
    "# Import the serology model (simulator)\n",
    "Model = serology.Serology2()"
   ]
  },
  {
   "cell_type": "code",
   "execution_count": 3,
   "metadata": {},
   "outputs": [],
   "source": [
    "### SET UP PRIORS OVER PARAMETERS ###\n",
    "\n",
    "# Lower limits\n",
    "theta_lower = np.array([np.log(0.05), # logHetExp\n",
    "                          0, # fzero\n",
    "                          10, # azero\n",
    "                          np.log(0.05), # logHetBoosting\n",
    "                          6, # baselineBoostingFactor\n",
    "                          np.log(4), # logBaseineBoostingThreshold\n",
    "                          np.log(0.05), # logAttenuationFactor\n",
    "                          5,# ageAdultAntibodies\n",
    "                          np.log(0.1), # logRhoChild\n",
    "                          np.log(0.1), # logRhoAdult\n",
    "                          -5, # mean background antibody levels\n",
    "                          np.log(1), # log std dev antibody background level\n",
    "                          ])\n",
    "# Upper limits\n",
    "theta_upper = np.array([np.log(1), # logHetExp\n",
    "                          0.5, # fzero\n",
    "                          30, # azero\n",
    "                          np.log(1), # logHetBoosting\n",
    "                          12, # baselineBoostingFactor\n",
    "                          np.log(12), # logBaseineBoostingThreshold\n",
    "                          np.log(2), # logAttenuationFactor\n",
    "                          20,# ageAdultAntibodies\n",
    "                          np.log(5), # logRhoChild\n",
    "                          np.log(40), # logRhoAdult ### log(40) for MSP and AMA, log(10) for LSA ###\n",
    "                          15, # mean background antibody levels\n",
    "                          np.log(20), # log std dev antibody background level\n",
    "                          ])\n",
    "\n",
    "theta_prior = priors.Uniform(lower=theta_lower, upper=theta_upper)\n",
    "log_eir_prior = priors.Uniform(lower=np.log(1e-4), upper=np.log(10))"
   ]
  },
  {
   "cell_type": "code",
   "execution_count": 5,
   "metadata": {},
   "outputs": [],
   "source": [
    "# Run simulations\n",
    "nsims = int(1e7)\n",
    "xs = np.zeros((nsims, 1))\n",
    "ps = np.zeros((nsims, 12 + 1 + 1)) # n_parameters = 12 (serology) + 1 (log_eir) + 1 (age)\n",
    "\n",
    "# Run the sims\n",
    "for i in range(nsims):\n",
    "    \n",
    "    # Draw log_eir, seology parameters and age from prior\n",
    "    log_eir = log_eir_prior.draw()\n",
    "    theta = theta_prior.draw()\n",
    "    age = np.random.randint(low=1, high=51)\n",
    "    \n",
    "    # Simulate\n",
    "    x = Model.simulate(log_eir, theta, age)\n",
    "    \n",
    "    # Add to sim data\n",
    "    xs[i,:] = x\n",
    "    ps[i,:] = np.concatenate([np.atleast_1d(log_eir), theta, np.atleast_1d(age)])"
   ]
  },
  {
   "cell_type": "code",
   "execution_count": 6,
   "metadata": {},
   "outputs": [],
   "source": [
    "# Save the simulations\n",
    "f = open('simulations/model_2/xs.pkl', 'wb')\n",
    "pickle.dump(xs, f)\n",
    "f.close()\n",
    "\n",
    "f = open('simulations/model_2/ps.pkl', 'wb')\n",
    "pickle.dump(ps, f)\n",
    "f.close()"
   ]
  },
  {
   "cell_type": "code",
   "execution_count": 14,
   "metadata": {},
   "outputs": [
    {
     "data": {
      "image/png": "[encoded data removed]",
      "text/plain": [
       "<Figure size 432x288 with 1 Axes>"
      ]
     },
     "metadata": {
      "needs_background": "light"
     },
     "output_type": "display_data"
    }
   ],
   "source": [
    "# TEST SIMULATIONS AGAINST OBSERVATIONS\n",
    "\n",
    "# Import the trac data\n",
    "tracdata = pd.read_csv('../../trac_data/summary_TRaC_data_with_covariates.csv')\n",
    "\n",
    "# Extract the AMA titres and ages for all individuals, grouped by village\n",
    "AMA = tracdata.AMA.values\n",
    "MSP = tracdata.MSP.values\n",
    "LSA = tracdata.LSA.values\n",
    "ages = tracdata.Age.values\n",
    "\n",
    "# Draw parameters from prior\n",
    "log_eir = log_eir_prior.draw()\n",
    "theta = theta_prior.draw()\n",
    "\n",
    "# Run sims\n",
    "LSAsim = np.zeros(len(ages))\n",
    "for i in range(len(ages)):\n",
    "    LSAsim[i] = Model.simulate(log_eir, theta, ages[i])\n",
    "\n",
    "# Age range\n",
    "A = np.arange(1, 51)\n",
    "\n",
    "# Percentiles\n",
    "LSA_percentiles = np.zeros((len(A), 5))\n",
    "LSAsim_percentiles = np.zeros((len(A), 5))\n",
    "for i in range(len(A)):\n",
    "    \n",
    "    # selection\n",
    "    s = (ages == A[i])\n",
    "    \n",
    "    # Percentiles\n",
    "    LSAsim_percentiles[i,:] = np.percentile(LSAsim[s], [10, 25, 50, 75, 90]) + 100\n",
    "    LSA_percentiles[i,:] = np.percentile(LSA[s], [10, 25, 50, 75, 90]) + 100\n",
    "\n",
    "# Plot the data and simulation percentiles as function of age\n",
    "colors = ['red', 'green', 'blue', 'purple', 'yellow']\n",
    "for i in range(5):\n",
    "    plt.plot(A, LSA_percentiles[:,i], color = colors[i])\n",
    "    plt.plot(A, LSAsim_percentiles[:,i], color = colors[i], ls = '--')\n",
    "plt.show()"
   ]
  },
  {
   "cell_type": "code",
   "execution_count": 21,
   "metadata": {},
   "outputs": [
    {
     "data": {
      "image/png": "[encoded data removed]",
      "text/plain": [
       "<Figure size 432x288 with 1 Axes>"
      ]
     },
     "metadata": {
      "needs_background": "light"
     },
     "output_type": "display_data"
    }
   ],
   "source": [
    "### EXPERIMENT WITH SENSIBLE TRANSFORMS FOR THE DATA ###\n",
    "trans1 = np.log(AMA + 10)\n",
    "trans2 = np.log(AMA + 20)\n",
    "plt.hist(trans1, bins = 30)\n",
    "plt.hist(trans2, bins = 30)\n",
    "plt.show()"
   ]
  },
  {
   "cell_type": "code",
   "execution_count": null,
   "metadata": {},
   "outputs": [],
   "source": [
    "s = (xs < 0)*(ps[:,-2] > 0)\n",
    "xss = xs[s]\n",
    "plt.hist(xss, bins = 500)\n",
    "plt.show()"
   ]
  },
  {
   "cell_type": "code",
   "execution_count": null,
   "metadata": {},
   "outputs": [],
   "source": []
  }
 ],
 "metadata": {
  "kernelspec": {
   "display_name": "Python 3",
   "language": "python",
   "name": "python3"
  },
  "language_info": {
   "codemirror_mode": {
    "name": "ipython",
    "version": 3
   },
   "file_extension": ".py",
   "mimetype": "text/x-python",
   "name": "python",
   "nbconvert_exporter": "python",
   "pygments_lexer": "ipython3",
   "version": "3.6.5"
  }
 },
 "nbformat": 4,
 "nbformat_minor": 2
}
